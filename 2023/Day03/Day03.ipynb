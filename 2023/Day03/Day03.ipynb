{
 "cells": [
  {
   "cell_type": "markdown",
   "metadata": {},
   "source": [
    "# --- Day 3: Gear Ratios ---\n",
    "You and the Elf eventually reach a gondola lift station; he says the gondola lift will take you up to the water source, but this is as far as he can bring you. You go inside.\n",
    "\n",
    "It doesn't take long to find the gondolas, but there seems to be a problem: they're not moving.\n",
    "\n",
    "\"Aaah!\"\n",
    "\n",
    "You turn around to see a slightly-greasy Elf with a wrench and a look of surprise. \"Sorry, I wasn't expecting anyone! The gondola lift isn't working right now; it'll still be a while before I can fix it.\" You offer to help.\n",
    "\n",
    "The engineer explains that an engine part seems to be missing from the engine, but nobody can figure out which one. If you can add up all the part numbers in the engine schematic, it should be easy to work out which part is missing.\n",
    "\n",
    "The engine schematic (your puzzle input) consists of a visual representation of the engine. There are lots of numbers and symbols you don't really understand, but apparently any number adjacent to a symbol, even diagonally, is a \"part number\" and should be included in your sum. (Periods (.) do not count as a symbol.)\n",
    "\n",
    "Here is an example engine schematic:\n",
    "\n",
    "    467..114..\n",
    "    ...*......\n",
    "    ..35..633.\n",
    "    ......#...\n",
    "    617*......\n",
    "    .....+.58.\n",
    "    ..592.....\n",
    "    ......755.\n",
    "    ...$.*....\n",
    "    .664.598..\n",
    "    \n",
    "In this schematic, two numbers are not part numbers because they are not adjacent to a symbol: 114 (top right) and 58 (middle right). Every other number is adjacent to a symbol and so is a part number; their sum is 4361.\n",
    "\n",
    "Of course, the actual engine schematic is much larger. What is the sum of all of the part numbers in the engine schematic?"
   ]
  },
  {
   "cell_type": "code",
   "execution_count": 1,
   "metadata": {},
   "outputs": [],
   "source": [
    "import numpy as np\n",
    "import pandas as pd\n",
    "from aocd import get_data\n",
    "\n",
    "data_raw = get_data(day=3, year=2023)\n",
    "with open(\"input.txt\", \"w\") as f:\n",
    "    f.write(data_raw)\n",
    "input = data_raw.split(\"\\n\")"
   ]
  },
  {
   "cell_type": "markdown",
   "metadata": {},
   "source": [
    "## Part 1"
   ]
  },
  {
   "cell_type": "code",
   "execution_count": 2,
   "metadata": {},
   "outputs": [
    {
     "data": {
      "text/plain": [
       "['467..114..',\n",
       " '...*......',\n",
       " '..35..633.',\n",
       " '......#...',\n",
       " '617*......',\n",
       " '.....+.58.',\n",
       " '..592.....',\n",
       " '......755.',\n",
       " '...$.*....',\n",
       " '.664.598..']"
      ]
     },
     "execution_count": 2,
     "metadata": {},
     "output_type": "execute_result"
    }
   ],
   "source": [
    "test_input = [\n",
    "    \"467..114..\",\n",
    "    \"...*......\",\n",
    "    \"..35..633.\",\n",
    "    \"......#...\",\n",
    "    \"617*......\",\n",
    "    \".....+.58.\",\n",
    "    \"..592.....\",\n",
    "    \"......755.\",\n",
    "    \"...$.*....\",\n",
    "    \".664.598..\",\n",
    "]\n",
    "test_input"
   ]
  },
  {
   "cell_type": "code",
   "execution_count": 3,
   "metadata": {},
   "outputs": [],
   "source": [
    "def solution(input):\n",
    "    input_np = np.array([list(row) for row in input])\n",
    "    digit_mask = np.array(\n",
    "        [[ele.isdigit() and ele != \".\" for ele in row] for row in input_np]\n",
    "    )\n",
    "    # Get the indices where the digit mask is true\n",
    "    digit_where = np.where(digit_mask)\n",
    "    digit_indices = list(zip(digit_where[0], digit_where[1]))\n",
    "    symbol_mask = np.array(\n",
    "        [[not ele.isdigit() and ele != \".\" for ele in row] for row in input_np]\n",
    "    )\n",
    "    # Get the indices where the symbol mask is true\n",
    "    symbol_where = np.where(symbol_mask)\n",
    "    symbol_indices = list(zip(symbol_where[0], symbol_where[1]))\n",
    "    # Calculate euclidean distance between the digit and symbol indices.\n",
    "    distances = np.array(\n",
    "        [\n",
    "            [\n",
    "                np.linalg.norm(np.array(digit) - np.array(symbol))\n",
    "                for digit in digit_indices\n",
    "            ]\n",
    "            for symbol in symbol_indices\n",
    "        ]\n",
    "    )\n",
    "    # Check if any of the distances are less than sqrt(2) (i.e. the digits touch the symbol)\n",
    "    digit_touches = list(zip(digit_indices, (distances <= np.sqrt(2)).any(axis=0)))\n",
    "    touches_symbol = np.zeros_like(input_np, dtype=bool)\n",
    "    for digit_idx, touches in digit_touches:\n",
    "        if touches:\n",
    "            touches_symbol[digit_idx[0], digit_idx[1]] = True\n",
    "\n",
    "    # Now we need to group the numbers together and sum them if any of their digits touch a symbol\n",
    "    numbers = []\n",
    "    for i, line in enumerate(input_np):\n",
    "        tmp_num = []\n",
    "        tmp_num_touches = []\n",
    "        recording = False\n",
    "        for j, ele in enumerate(line):\n",
    "            if ele.isdigit():\n",
    "                recording = True\n",
    "                tmp_num.append(ele)\n",
    "                tmp_num_touches.append(touches_symbol[i, j])\n",
    "                if j == len(line) - 1:\n",
    "                    # We have reached the end of the line\n",
    "                    # Add the number to the list of numbers if it has any touches\n",
    "                    if np.array(tmp_num_touches).any():\n",
    "                        numbers.append(int(\"\".join(tmp_num)))\n",
    "                    tmp_num = []\n",
    "                    tmp_num_touches = []\n",
    "                    recording = False\n",
    "            else:\n",
    "                if recording:\n",
    "                    # We have reached the end of the number\n",
    "                    # Add the number to the list of numbers if it has any touches\n",
    "                    if np.array(tmp_num_touches).any():\n",
    "                        numbers.append(int(\"\".join(tmp_num)))\n",
    "                    # Reset the temporary number and touches\n",
    "                    tmp_num = []\n",
    "                    tmp_num_touches = []\n",
    "                    recording = False\n",
    "    return sum(numbers)"
   ]
  },
  {
   "cell_type": "code",
   "execution_count": 4,
   "metadata": {},
   "outputs": [
    {
     "data": {
      "text/plain": [
       "4361"
      ]
     },
     "execution_count": 4,
     "metadata": {},
     "output_type": "execute_result"
    }
   ],
   "source": [
    "solution(test_input)"
   ]
  },
  {
   "cell_type": "code",
   "execution_count": 5,
   "metadata": {},
   "outputs": [],
   "source": [
    "# solution(input)"
   ]
  },
  {
   "cell_type": "markdown",
   "metadata": {},
   "source": [
    "## Part 2\n",
    "\n",
    "The engineer finds the missing part and installs it in the engine! As the engine springs to life, you jump in the closest gondola, finally ready to ascend to the water source.\n",
    "\n",
    "You don't seem to be going very fast, though. Maybe something is still wrong? Fortunately, the gondola has a phone labeled \"help\", so you pick it up and the engineer answers.\n",
    "\n",
    "Before you can explain the situation, she suggests that you look out the window. There stands the engineer, holding a phone in one hand and waving with the other. You're going so slowly that you haven't even left the station. You exit the gondola.\n",
    "\n",
    "The missing part wasn't the only issue - one of the gears in the engine is wrong. A gear is any * symbol that is adjacent to exactly two part numbers. Its gear ratio is the result of multiplying those two numbers together.\n",
    "\n",
    "This time, you need to find the gear ratio of every gear and add them all up so that the engineer can figure out which gear needs to be replaced.\n",
    "\n",
    "Consider the same engine schematic again:\n",
    "\n",
    "    467..114..\n",
    "    ...*......\n",
    "    ..35..633.\n",
    "    ......#...\n",
    "    617*......\n",
    "    .....+.58.\n",
    "    ..592.....\n",
    "    ......755.\n",
    "    ...$.*....\n",
    "    .664.598..\n",
    "\n",
    "In this schematic, there are two gears. The first is in the top left; it has part numbers 467 and 35, so its gear ratio is 16345. The second gear is in the lower right; its gear ratio is 451490. (The * adjacent to 617 is not a gear because it is only adjacent to one part number.) Adding up all of the gear ratios produces 467835.\n",
    "\n",
    "What is the sum of all of the gear ratios in your engine schematic?"
   ]
  },
  {
   "cell_type": "code",
   "execution_count": 25,
   "metadata": {},
   "outputs": [],
   "source": [
    "def solution2(input):\n",
    "    input_np = np.array([list(row) for row in input])\n",
    "    symbol_mask = np.array([[ele == \"*\" for ele in row] for row in input_np])\n",
    "    # Get the indices where the symbol mask is true\n",
    "    symbol_where = np.where(symbol_mask)\n",
    "    symbol_indices = list(zip(symbol_where[0], symbol_where[1]))\n",
    "\n",
    "    numbers = []\n",
    "    for i, line in enumerate(input_np):\n",
    "        tmp_num = []\n",
    "        tmp_num_positions = []\n",
    "        recording = False\n",
    "        for j, ele in enumerate(line):\n",
    "            end = False\n",
    "            if ele.isdigit():\n",
    "                recording = True\n",
    "                tmp_num.append(ele)\n",
    "                tmp_num_positions.append((i, j))\n",
    "                if j == len(line) - 1:\n",
    "                    # Reached the end of the line and thus the number\n",
    "                    end = True\n",
    "            else:\n",
    "                if recording:\n",
    "                    end = True\n",
    "            if end:\n",
    "                # Reached the end of the number\n",
    "                # Get list of positions that surround the number\n",
    "                surrounding_positions = []\n",
    "                for pos in tmp_num_positions:\n",
    "                    for dk in [-1, 0, 1]:\n",
    "                        for dl in [-1, 0, 1]:\n",
    "                            # if di == 0 and dj == 0:\n",
    "                            #     # Skip the current position of the symbol\n",
    "                            #     continue\n",
    "                            # else:\n",
    "                            pos_new = (pos[0] + dk, pos[1] + dl)\n",
    "                            if (\n",
    "                                (pos_new not in tmp_num_positions)\n",
    "                                and (pos_new[0] >= 0)\n",
    "                                and (pos_new[1] >= 0)\n",
    "                            ):\n",
    "                                surrounding_positions.append(pos_new)\n",
    "\n",
    "                # Add the number to the list of numbers\n",
    "                numbers.append(\n",
    "                    (int(\"\".join(tmp_num)), list(set(surrounding_positions)))\n",
    "                )\n",
    "\n",
    "                # Reset the temporary number and touches\n",
    "                tmp_num = []\n",
    "                tmp_num_positions = []\n",
    "                recording = False\n",
    "\n",
    "    total = 0\n",
    "\n",
    "    for sym_pos in symbol_indices:\n",
    "        nums_that_touch = []\n",
    "        for num, num_pos in numbers:\n",
    "            if sym_pos in num_pos:\n",
    "                nums_that_touch.append(num)\n",
    "        if len(nums_that_touch) == 2:\n",
    "            total += nums_that_touch[0] * nums_that_touch[1]\n",
    "    return total"
   ]
  },
  {
   "cell_type": "code",
   "execution_count": 26,
   "metadata": {},
   "outputs": [
    {
     "data": {
      "text/plain": [
       "467835"
      ]
     },
     "execution_count": 26,
     "metadata": {},
     "output_type": "execute_result"
    }
   ],
   "source": [
    "solution2(test_input)"
   ]
  },
  {
   "cell_type": "code",
   "execution_count": 27,
   "metadata": {},
   "outputs": [
    {
     "data": {
      "text/plain": [
       "84883664"
      ]
     },
     "execution_count": 27,
     "metadata": {},
     "output_type": "execute_result"
    }
   ],
   "source": [
    "solution2(input)"
   ]
  },
  {
   "cell_type": "code",
   "execution_count": null,
   "metadata": {},
   "outputs": [],
   "source": []
  }
 ],
 "metadata": {
  "kernelspec": {
   "display_name": "py311",
   "language": "python",
   "name": "python3"
  },
  "language_info": {
   "codemirror_mode": {
    "name": "ipython",
    "version": 3
   },
   "file_extension": ".py",
   "mimetype": "text/x-python",
   "name": "python",
   "nbconvert_exporter": "python",
   "pygments_lexer": "ipython3",
   "version": "3.11.5"
  }
 },
 "nbformat": 4,
 "nbformat_minor": 2
}
