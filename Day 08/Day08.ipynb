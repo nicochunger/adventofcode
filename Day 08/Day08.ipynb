{
 "cells": [
  {
   "attachments": {},
   "cell_type": "markdown",
   "metadata": {},
   "source": [
    "# Part 1"
   ]
  },
  {
   "cell_type": "code",
   "execution_count": 1,
   "metadata": {},
   "outputs": [],
   "source": [
    "import numpy as np"
   ]
  },
  {
   "cell_type": "code",
   "execution_count": 13,
   "metadata": {},
   "outputs": [],
   "source": [
    "def read_input(file):\n",
    "    trees = np.loadtxt(file, dtype=str)\n",
    "    # Divide trees intro individual columns by separating the strings into integers\n",
    "    trees = np.array([list(t) for t in trees])\n",
    "    # Convert elements of trees to integers\n",
    "    trees = trees.astype(int)\n",
    "    return trees"
   ]
  },
  {
   "cell_type": "code",
   "execution_count": 19,
   "metadata": {},
   "outputs": [],
   "source": [
    "# An element is visible from the edges if all elements on either side above and below are smaller than itself\n",
    "# Function that checks which elements are visible from the edge\n",
    "def visible_from_edge(trees):\n",
    "    # Initialize array of zeros\n",
    "    visible = np.zeros(trees.shape, dtype=int)\n",
    "    # Initialize the edge elements of visible to 1 as these are always visible\n",
    "    visible[0,:] = 1\n",
    "    visible[-1,:] = 1\n",
    "    visible[:,0] = 1\n",
    "    visible[:,-1] = 1\n",
    "    # Loop over all columns except the first and last\n",
    "    for i in range(1, trees.shape[1]-1):\n",
    "        # Loop over all rows except the first and last\n",
    "        for j in range(1, trees.shape[0]-1):\n",
    "            # Check if element is visible from the edge\n",
    "            if (trees[j,i] > trees[:j,i].max() or trees[j,i] > trees[j+1:,i].max()\n",
    "                or trees[j,i] > trees[j,:i].max() or trees[j,i] > trees[j,i+1:].max()):\n",
    "                visible[j,i] = 1\n",
    "    return visible"
   ]
  },
  {
   "attachments": {},
   "cell_type": "markdown",
   "metadata": {},
   "source": [
    "Test on test input"
   ]
  },
  {
   "cell_type": "code",
   "execution_count": 21,
   "metadata": {},
   "outputs": [
    {
     "data": {
      "text/plain": [
       "21"
      ]
     },
     "execution_count": 21,
     "metadata": {},
     "output_type": "execute_result"
    }
   ],
   "source": [
    "test_trees = read_input('test_input.txt')\n",
    "visible_from_edge(test_trees).sum()"
   ]
  },
  {
   "attachments": {},
   "cell_type": "markdown",
   "metadata": {},
   "source": [
    "On real input"
   ]
  },
  {
   "cell_type": "code",
   "execution_count": 22,
   "metadata": {},
   "outputs": [
    {
     "data": {
      "text/plain": [
       "1843"
      ]
     },
     "execution_count": 22,
     "metadata": {},
     "output_type": "execute_result"
    }
   ],
   "source": [
    "trees = read_input('input.txt')\n",
    "visible_from_edge(trees).sum()"
   ]
  },
  {
   "attachments": {},
   "cell_type": "markdown",
   "metadata": {},
   "source": [
    "# Part 2"
   ]
  },
  {
   "cell_type": "code",
   "execution_count": 66,
   "metadata": {},
   "outputs": [],
   "source": [
    "# Calculate scenic score by multiplying the number of visible trees in each direction\n",
    "def scenic_score(trees):\n",
    "    # Initialize array of zeros\n",
    "    score = np.ones(trees.shape, dtype=int)\n",
    "    # Calulate the viewing distance for each element in each direction\n",
    "    # Loop over all rows\n",
    "    for i in range(trees.shape[0]):\n",
    "        # Loop over all columns\n",
    "        for j in range(trees.shape[1]):\n",
    "            # Calculate viewing distance in each direction by looking how many elements you have to\n",
    "            # move in each direction before you find an element that is larger than the current element\n",
    "            # Moving left and right is done by looking at the elements in the same row\n",
    "            # print(f'\\n Element [{i}, {j}]: {trees[i,j]}')\n",
    "            if j > 0:\n",
    "                # Moving left\n",
    "                dist_to_left = 1\n",
    "                tmp_tree = trees[i,j-dist_to_left]\n",
    "                while tmp_tree < trees[i,j]:\n",
    "                    # Check if you are not at the edge of the array\n",
    "                    if j-dist_to_left <= 0:\n",
    "                        break\n",
    "                    dist_to_left += 1\n",
    "                    tmp_tree = trees[i,j-dist_to_left]\n",
    "                # print(f' dist_to_left: {dist_to_left}')\n",
    "                score[i,j] *= dist_to_left\n",
    "            if j < trees.shape[1]-1:\n",
    "                # Moving right\n",
    "                dist_to_right = 1\n",
    "                tmp_tree = trees[i,j+dist_to_right]\n",
    "                while tmp_tree < trees[i,j]:\n",
    "                    # Check if you are not at the edge of the array\n",
    "                    if j+dist_to_right >= trees.shape[1]-1:\n",
    "                        break\n",
    "                    dist_to_right += 1\n",
    "                    tmp_tree = trees[i,j+dist_to_right]\n",
    "                # print(f' dist_to_right: {dist_to_right}')\n",
    "                score[i,j] *= dist_to_right\n",
    "            if i > 0:\n",
    "                # Moving up\n",
    "                dist_to_up = 1\n",
    "                tmp_tree = trees[i-dist_to_up,j]\n",
    "                while tmp_tree < trees[i,j]:\n",
    "                    # Check if you are not at the edge of the array\n",
    "                    if i-dist_to_up <= 0:\n",
    "                        break\n",
    "                    dist_to_up += 1\n",
    "                    tmp_tree = trees[i-dist_to_up,j]\n",
    "                # print(f' dist_to_up: {dist_to_up}')\n",
    "                score[i,j] *= dist_to_up\n",
    "            if i < trees.shape[0]-1:\n",
    "                # Moving down\n",
    "                dist_to_down = 1\n",
    "                tmp_tree = trees[i+dist_to_down,j]\n",
    "                while tmp_tree < trees[i,j]:\n",
    "                    # Check if you are not at the edge of the array\n",
    "                    if i+dist_to_down >= trees.shape[0]-1:\n",
    "                        break\n",
    "                    dist_to_down += 1\n",
    "                    tmp_tree = trees[i+dist_to_down,j]\n",
    "                # print(f' dist_to_down: {dist_to_down}')\n",
    "                score[i,j] *= dist_to_down\n",
    "            # print(f' score: {score[i,j]}')\n",
    "    return score\n"
   ]
  },
  {
   "cell_type": "code",
   "execution_count": 67,
   "metadata": {},
   "outputs": [
    {
     "data": {
      "text/plain": [
       "array([[3, 0, 3, 7, 3],\n",
       "       [2, 5, 5, 1, 2],\n",
       "       [6, 5, 3, 3, 2],\n",
       "       [3, 3, 5, 4, 9],\n",
       "       [3, 5, 3, 9, 0]])"
      ]
     },
     "execution_count": 67,
     "metadata": {},
     "output_type": "execute_result"
    }
   ],
   "source": [
    "test_trees"
   ]
  },
  {
   "attachments": {},
   "cell_type": "markdown",
   "metadata": {},
   "source": [
    "Test trees"
   ]
  },
  {
   "cell_type": "code",
   "execution_count": 68,
   "metadata": {},
   "outputs": [
    {
     "data": {
      "text/plain": [
       "array([[ 4,  1,  2, 12,  3],\n",
       "       [ 1,  1,  4,  1,  2],\n",
       "       [16,  6,  1,  2,  1],\n",
       "       [ 1,  1,  8,  3, 12],\n",
       "       [ 1,  4,  1, 12,  1]])"
      ]
     },
     "execution_count": 68,
     "metadata": {},
     "output_type": "execute_result"
    }
   ],
   "source": [
    "scenic_score(test_trees)"
   ]
  },
  {
   "attachments": {},
   "cell_type": "markdown",
   "metadata": {},
   "source": [
    "Real input"
   ]
  },
  {
   "cell_type": "code",
   "execution_count": 69,
   "metadata": {},
   "outputs": [
    {
     "data": {
      "text/plain": [
       "array([[ 2,  1,  2, ...,  4,  1,  1],\n",
       "       [ 1,  8, 42, ...,  6,  2,  2],\n",
       "       [ 3,  1,  1, ...,  4,  1,  1],\n",
       "       ...,\n",
       "       [32,  1,  1, ...,  1,  1,  9],\n",
       "       [ 1,  1,  6, ...,  2, 15,  1],\n",
       "       [ 1,  3,  2, ...,  6,  1,  1]])"
      ]
     },
     "execution_count": 69,
     "metadata": {},
     "output_type": "execute_result"
    }
   ],
   "source": [
    "scenic_score(trees)"
   ]
  },
  {
   "cell_type": "code",
   "execution_count": 71,
   "metadata": {},
   "outputs": [
    {
     "data": {
      "text/plain": [
       "180000"
      ]
     },
     "execution_count": 71,
     "metadata": {},
     "output_type": "execute_result"
    }
   ],
   "source": [
    "np.max(scenic_score(trees))"
   ]
  },
  {
   "cell_type": "code",
   "execution_count": null,
   "metadata": {},
   "outputs": [],
   "source": []
  }
 ],
 "metadata": {
  "kernelspec": {
   "display_name": "base",
   "language": "python",
   "name": "python3"
  },
  "language_info": {
   "codemirror_mode": {
    "name": "ipython",
    "version": 3
   },
   "file_extension": ".py",
   "mimetype": "text/x-python",
   "name": "python",
   "nbconvert_exporter": "python",
   "pygments_lexer": "ipython3",
   "version": "3.8.8"
  },
  "orig_nbformat": 4,
  "vscode": {
   "interpreter": {
    "hash": "9cb3414fc703dd8cc982b544269b5fbfe36cb584fb7b6ad5d526a12d9be0b908"
   }
  }
 },
 "nbformat": 4,
 "nbformat_minor": 2
}
