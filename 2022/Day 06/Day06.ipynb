{
 "cells": [
  {
   "cell_type": "code",
   "execution_count": 1,
   "metadata": {},
   "outputs": [],
   "source": [
    "import numpy as np"
   ]
  },
  {
   "cell_type": "markdown",
   "metadata": {},
   "source": [
    "# Part 1"
   ]
  },
  {
   "cell_type": "code",
   "execution_count": 6,
   "metadata": {},
   "outputs": [],
   "source": [
    "with open('input.txt', 'r') as f:\n",
    "    data = f.read().splitlines()[0]"
   ]
  },
  {
   "cell_type": "code",
   "execution_count": 15,
   "metadata": {},
   "outputs": [],
   "source": [
    "# Define a function to find the first block of 4 unique characters in a string\n",
    "def find_first_block(string):\n",
    "    # Loop over the characters in the string\n",
    "    for i in range(len(string)):\n",
    "        # Extract the sub-string of length 4 starting at the current character\n",
    "        substr = string[i:i+4]\n",
    "\n",
    "        # Check if the sub-string contains 4 unique characters\n",
    "        if len(set(substr)) == 4:\n",
    "            # Print the index of the first character in the sub-string\n",
    "            # and return from the function\n",
    "            print(f\"First marker after character {i+4}\")\n",
    "            return\n",
    "\n",
    "    # If no blocks of 4 unique characters were found, print a message\n",
    "    # and return from the function\n",
    "    print(\"No blocks of 4 unique characters were found\")\n",
    "    return"
   ]
  },
  {
   "cell_type": "code",
   "execution_count": 20,
   "metadata": {},
   "outputs": [
    {
     "name": "stdout",
     "output_type": "stream",
     "text": [
      "First marker after character 11\n"
     ]
    }
   ],
   "source": [
    "# Test the function with a sample string\n",
    "string = \"zcfzfwzzqfrljwzlrfnpqdbhtmscgvjw\"\n",
    "find_first_block(string)"
   ]
  },
  {
   "cell_type": "code",
   "execution_count": 21,
   "metadata": {},
   "outputs": [
    {
     "name": "stdout",
     "output_type": "stream",
     "text": [
      "First marker after character 1625\n"
     ]
    }
   ],
   "source": [
    "find_first_block(data)"
   ]
  },
  {
   "cell_type": "markdown",
   "metadata": {},
   "source": [
    "# Part 2"
   ]
  },
  {
   "cell_type": "code",
   "execution_count": 25,
   "metadata": {},
   "outputs": [],
   "source": [
    "# Define a function to find the first block of 4 unique characters in a string\n",
    "def find_first_block2(string, n_unique):\n",
    "    # Loop over the characters in the string\n",
    "    for i in range(len(string)-n_unique):\n",
    "        # Extract the sub-string of length n_unique starting at the current character\n",
    "        substr = string[i:i+n_unique]\n",
    "\n",
    "        # Check if the sub-string contains n_unique unique characters\n",
    "        if len(set(substr)) == n_unique:\n",
    "            # Print the index of the first character in the sub-string\n",
    "            # and return from the function\n",
    "            print(f\"First marker after character {i+n_unique}\")\n",
    "            return\n",
    "\n",
    "    # If no blocks of n_unique unique characters were found, print a message\n",
    "    # and return from the function\n",
    "    print(f\"No blocks of {n_unique} unique characters were found\")\n",
    "    return"
   ]
  },
  {
   "cell_type": "code",
   "execution_count": 30,
   "metadata": {},
   "outputs": [
    {
     "name": "stdout",
     "output_type": "stream",
     "text": [
      "First marker after character 26\n"
     ]
    }
   ],
   "source": [
    "string = 'zcfzfwzzqfrljwzlrfnpqdbhtmscgvjw'\n",
    "find_first_block2(string, 14)"
   ]
  },
  {
   "cell_type": "code",
   "execution_count": 31,
   "metadata": {},
   "outputs": [
    {
     "name": "stdout",
     "output_type": "stream",
     "text": [
      "First marker after character 2250\n"
     ]
    }
   ],
   "source": [
    "find_first_block2(data, 14)"
   ]
  },
  {
   "cell_type": "code",
   "execution_count": null,
   "metadata": {},
   "outputs": [],
   "source": []
  }
 ],
 "metadata": {
  "kernelspec": {
   "display_name": "Python 3.8.8 ('base')",
   "language": "python",
   "name": "python3"
  },
  "language_info": {
   "codemirror_mode": {
    "name": "ipython",
    "version": 3
   },
   "file_extension": ".py",
   "mimetype": "text/x-python",
   "name": "python",
   "nbconvert_exporter": "python",
   "pygments_lexer": "ipython3",
   "version": "3.8.8"
  },
  "orig_nbformat": 4,
  "vscode": {
   "interpreter": {
    "hash": "9cb3414fc703dd8cc982b544269b5fbfe36cb584fb7b6ad5d526a12d9be0b908"
   }
  }
 },
 "nbformat": 4,
 "nbformat_minor": 2
}
