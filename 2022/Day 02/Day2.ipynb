{
 "cells": [
  {
   "cell_type": "code",
   "execution_count": 3,
   "metadata": {},
   "outputs": [],
   "source": [
    "import numpy as np\n",
    "import pandas as pd"
   ]
  },
  {
   "cell_type": "markdown",
   "metadata": {},
   "source": [
    "# Part 1"
   ]
  },
  {
   "cell_type": "code",
   "execution_count": 5,
   "metadata": {},
   "outputs": [],
   "source": [
    "strat = pd.read_csv('input.txt', sep=' ', names=['Opp', 'You'])"
   ]
  },
  {
   "cell_type": "code",
   "execution_count": 6,
   "metadata": {},
   "outputs": [
    {
     "data": {
      "text/html": [
       "<div>\n",
       "<style scoped>\n",
       "    .dataframe tbody tr th:only-of-type {\n",
       "        vertical-align: middle;\n",
       "    }\n",
       "\n",
       "    .dataframe tbody tr th {\n",
       "        vertical-align: top;\n",
       "    }\n",
       "\n",
       "    .dataframe thead th {\n",
       "        text-align: right;\n",
       "    }\n",
       "</style>\n",
       "<table border=\"1\" class=\"dataframe\">\n",
       "  <thead>\n",
       "    <tr style=\"text-align: right;\">\n",
       "      <th></th>\n",
       "      <th>Opp</th>\n",
       "      <th>You</th>\n",
       "    </tr>\n",
       "  </thead>\n",
       "  <tbody>\n",
       "    <tr>\n",
       "      <th>0</th>\n",
       "      <td>A</td>\n",
       "      <td>X</td>\n",
       "    </tr>\n",
       "    <tr>\n",
       "      <th>1</th>\n",
       "      <td>B</td>\n",
       "      <td>X</td>\n",
       "    </tr>\n",
       "    <tr>\n",
       "      <th>2</th>\n",
       "      <td>C</td>\n",
       "      <td>X</td>\n",
       "    </tr>\n",
       "    <tr>\n",
       "      <th>3</th>\n",
       "      <td>C</td>\n",
       "      <td>Y</td>\n",
       "    </tr>\n",
       "    <tr>\n",
       "      <th>4</th>\n",
       "      <td>B</td>\n",
       "      <td>Y</td>\n",
       "    </tr>\n",
       "    <tr>\n",
       "      <th>...</th>\n",
       "      <td>...</td>\n",
       "      <td>...</td>\n",
       "    </tr>\n",
       "    <tr>\n",
       "      <th>2495</th>\n",
       "      <td>C</td>\n",
       "      <td>Y</td>\n",
       "    </tr>\n",
       "    <tr>\n",
       "      <th>2496</th>\n",
       "      <td>B</td>\n",
       "      <td>Y</td>\n",
       "    </tr>\n",
       "    <tr>\n",
       "      <th>2497</th>\n",
       "      <td>B</td>\n",
       "      <td>Y</td>\n",
       "    </tr>\n",
       "    <tr>\n",
       "      <th>2498</th>\n",
       "      <td>B</td>\n",
       "      <td>Y</td>\n",
       "    </tr>\n",
       "    <tr>\n",
       "      <th>2499</th>\n",
       "      <td>B</td>\n",
       "      <td>Y</td>\n",
       "    </tr>\n",
       "  </tbody>\n",
       "</table>\n",
       "<p>2500 rows × 2 columns</p>\n",
       "</div>"
      ],
      "text/plain": [
       "     Opp You\n",
       "0      A   X\n",
       "1      B   X\n",
       "2      C   X\n",
       "3      C   Y\n",
       "4      B   Y\n",
       "...   ..  ..\n",
       "2495   C   Y\n",
       "2496   B   Y\n",
       "2497   B   Y\n",
       "2498   B   Y\n",
       "2499   B   Y\n",
       "\n",
       "[2500 rows x 2 columns]"
      ]
     },
     "execution_count": 6,
     "metadata": {},
     "output_type": "execute_result"
    }
   ],
   "source": [
    "strat"
   ]
  },
  {
   "cell_type": "markdown",
   "metadata": {},
   "source": [
    "### Legend\n",
    "\n",
    "* A, X = Rock\n",
    "* B, Y = Paper\n",
    "* C, Z = Scissors"
   ]
  },
  {
   "cell_type": "code",
   "execution_count": 35,
   "metadata": {},
   "outputs": [
    {
     "data": {
      "text/plain": [
       "11873"
      ]
     },
     "execution_count": 35,
     "metadata": {},
     "output_type": "execute_result"
    }
   ],
   "source": [
    "def isawin(df, hand_col):\n",
    "    winning_hands = [('A', 'Y'), ('B', 'Z'), ('C', 'X')]\n",
    "    losing_hands = [('B', 'X'), ('C', 'Y'), ('A', 'Z')]\n",
    "    win_score = []\n",
    "    for _, row in df.iterrows():\n",
    "        play = (row.Opp, row[hand_col])\n",
    "        if play in winning_hands:\n",
    "            win_score.append(6)\n",
    "        elif play in losing_hands:\n",
    "            win_score.append(0)\n",
    "        else:\n",
    "            win_score.append(3)\n",
    "    df['win_score'] = np.array(win_score)\n",
    "    return df\n",
    "\n",
    "(strat\n",
    "    .assign(hand_score = strat.You.map({'X': 1, 'Y': 2, 'Z':3}))\n",
    "    .pipe(isawin, hand_col='You')\n",
    "    .pipe(lambda df_: df_.assign(total_score = df_.hand_score + df_.win_score))\n",
    "    .total_score\n",
    "    .sum()\n",
    ")"
   ]
  },
  {
   "cell_type": "markdown",
   "metadata": {},
   "source": [
    "# Part 2"
   ]
  },
  {
   "cell_type": "code",
   "execution_count": 39,
   "metadata": {},
   "outputs": [
    {
     "data": {
      "text/plain": [
       "12014"
      ]
     },
     "execution_count": 39,
     "metadata": {},
     "output_type": "execute_result"
    }
   ],
   "source": [
    "def choose_hand(df):\n",
    "    hands = []\n",
    "    win_map = {'A': 'Y', 'B': 'Z', 'C': 'X'}\n",
    "    lose_map = {'A': 'Z', 'B': 'X', 'C': 'Y'}\n",
    "    draw_map = {'A': 'X', 'B': 'Y', 'C': 'Z'}\n",
    "    for _, row in df.iterrows():\n",
    "        opp = row.Opp\n",
    "        lose_draw_win = row.You\n",
    "        if lose_draw_win == 'X':\n",
    "            hands.append(lose_map[opp])\n",
    "        elif lose_draw_win == 'Y':\n",
    "            hands.append(draw_map[opp])\n",
    "        elif lose_draw_win == 'Z':\n",
    "            hands.append(win_map[opp])\n",
    "    df['my_hand'] = hands\n",
    "    return df\n",
    "\n",
    "(strat\n",
    "    .pipe(choose_hand)\n",
    "    .assign(hand_score = strat.my_hand.map({'X': 1, 'Y': 2, 'Z':3}))\n",
    "    .pipe(isawin, hand_col = 'my_hand')\n",
    "    .pipe(lambda df_: df_.assign(total_score = df_.hand_score + df_.win_score))\n",
    "    .total_score\n",
    "    .sum()\n",
    ")"
   ]
  },
  {
   "cell_type": "code",
   "execution_count": null,
   "metadata": {},
   "outputs": [],
   "source": []
  }
 ],
 "metadata": {
  "kernelspec": {
   "display_name": "Python 3.8.8 ('base')",
   "language": "python",
   "name": "python3"
  },
  "language_info": {
   "codemirror_mode": {
    "name": "ipython",
    "version": 3
   },
   "file_extension": ".py",
   "mimetype": "text/x-python",
   "name": "python",
   "nbconvert_exporter": "python",
   "pygments_lexer": "ipython3",
   "version": "3.8.8"
  },
  "orig_nbformat": 4,
  "vscode": {
   "interpreter": {
    "hash": "9cb3414fc703dd8cc982b544269b5fbfe36cb584fb7b6ad5d526a12d9be0b908"
   }
  }
 },
 "nbformat": 4,
 "nbformat_minor": 2
}
