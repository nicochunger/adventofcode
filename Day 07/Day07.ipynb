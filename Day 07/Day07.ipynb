{
 "cells": [
  {
   "cell_type": "code",
   "execution_count": 1,
   "metadata": {},
   "outputs": [],
   "source": [
    "import numpy as np"
   ]
  },
  {
   "cell_type": "markdown",
   "metadata": {},
   "source": [
    "# Part 1"
   ]
  },
  {
   "cell_type": "markdown",
   "metadata": {},
   "source": [
    "From chatGPT:"
   ]
  },
  {
   "cell_type": "code",
   "execution_count": 9,
   "metadata": {},
   "outputs": [],
   "source": [
    "# Define a function to parse the input file\n",
    "# def parse_input(input_file):\n",
    "\n",
    "input_file = 'test_input.txt'\n",
    "# Initialize an empty dictionary to store the filesystem structure\n",
    "fs_dict = {}\n",
    "\n",
    "# Open the input file for reading\n",
    "with open(input_file, \"r\") as f:\n",
    "    # Loop over the lines in the file\n",
    "    for line in f:\n",
    "        # Check if line starts with $\n",
    "        if line.startswith(\"$\"):\n",
    "            # It's a command, Split the line into tokens\n",
    "            tokens = line.strip().split()\n",
    "\n",
    "        # Check if the first token is \"cd\"\n",
    "        if tokens[0] == \"cd\":\n",
    "            # Check if the second token is \"/\"\n",
    "            if tokens[1] == \"/\":\n",
    "                # Set the current directory to the root directory\n",
    "                curr_dir = fs_dict\n",
    "            # Check if the second token is \"..\"\n",
    "            elif tokens[1] == \"..\":\n",
    "                # Check if the current directory is the root directory\n",
    "                if curr_dir == fs_dict:\n",
    "                    continue\n",
    "                # Set the current directory to its parent directory\n",
    "                curr_dir = curr_dir[\"..\"]\n",
    "            else:\n",
    "                # Check if the target directory exists in the current directory\n",
    "                if tokens[1] not in curr_dir:\n",
    "                    # Create a new directory in the current directory\n",
    "                    curr_dir[tokens[1]] = {\"type\": \"dir\", \"..\": curr_dir}\n",
    "                # Set the current directory to the target directory\n",
    "                curr_dir = curr_dir[tokens[1]]\n",
    "\n",
    "\n",
    "\n",
    "    #     # Check if the first token is \"ls\"\n",
    "    #     if tokens[0] == \"ls\":\n",
    "    #         # Loop over the remaining tokens in the line\n",
    "    #         for i in range(1, len(tokens)):\n",
    "    #             # Split the token into name and size\n",
    "    #             name, size = tokens[i].split(\"=\")\n",
    "\n",
    "    #             # Check if the name is a directory or a file\n",
    "    #             if name.endswith(\".txt\"):\n",
    "    #                 # Create a new file in the current directory\n",
    "    #                 curr_dir[name] = {\"type\": \"file\", \"size\": int(size)}\n",
    "    #             else:\n",
    "    #                 # Create a new directory in the current directory\n",
    "    #                 curr_dir[name] = {\"type\": \"dir\", \"..\": curr_dir}\n",
    "\n",
    "    # # Return the parsed filesystem structure\n",
    "    # return fs_dict"
   ]
  },
  {
   "cell_type": "code",
   "execution_count": 13,
   "metadata": {},
   "outputs": [
    {
     "data": {
      "text/plain": [
       "['$', 'cd', '/']"
      ]
     },
     "execution_count": 13,
     "metadata": {},
     "output_type": "execute_result"
    }
   ],
   "source": [
    "line.strip().split()"
   ]
  },
  {
   "cell_type": "code",
   "execution_count": 4,
   "metadata": {},
   "outputs": [
    {
     "name": "stdout",
     "output_type": "stream",
     "text": [
      "{}\n"
     ]
    }
   ],
   "source": [
    "fs_dict = parse_input('test_input.txt')\n",
    "print(fs_dict)"
   ]
  },
  {
   "cell_type": "code",
   "execution_count": null,
   "metadata": {},
   "outputs": [],
   "source": []
  }
 ],
 "metadata": {
  "kernelspec": {
   "display_name": "Python 3.8.8 ('base')",
   "language": "python",
   "name": "python3"
  },
  "language_info": {
   "codemirror_mode": {
    "name": "ipython",
    "version": 3
   },
   "file_extension": ".py",
   "mimetype": "text/x-python",
   "name": "python",
   "nbconvert_exporter": "python",
   "pygments_lexer": "ipython3",
   "version": "3.8.8"
  },
  "orig_nbformat": 4,
  "vscode": {
   "interpreter": {
    "hash": "9cb3414fc703dd8cc982b544269b5fbfe36cb584fb7b6ad5d526a12d9be0b908"
   }
  }
 },
 "nbformat": 4,
 "nbformat_minor": 2
}
